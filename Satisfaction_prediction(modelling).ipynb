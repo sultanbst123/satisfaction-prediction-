{
  "nbformat": 4,
  "nbformat_minor": 0,
  "metadata": {
    "colab": {
      "name": "Satisfaction_prediction(modelling).ipynb",
      "provenance": [],
      "collapsed_sections": [],
      "mount_file_id": "1ncNzr8chndcM7Ny_zJDfvk1l-Eu5zPC9",
      "authorship_tag": "ABX9TyOUY7bhqC6FNCAchgDH+O2M",
      "include_colab_link": true
    },
    "kernelspec": {
      "display_name": "Python 3",
      "name": "python3"
    },
    "language_info": {
      "name": "python"
    }
  },
  "cells": [
    {
      "cell_type": "markdown",
      "metadata": {
        "id": "view-in-github",
        "colab_type": "text"
      },
      "source": [
        "<a href=\"https://colab.research.google.com/github/sultanbst123/satisfaction-prediction-/blob/main/Satisfaction_prediction(modelling).ipynb\" target=\"_parent\"><img src=\"https://colab.research.google.com/assets/colab-badge.svg\" alt=\"Open In Colab\"/></a>"
      ]
    },
    {
      "cell_type": "code",
      "metadata": {
        "id": "h31Hzhe7B05f"
      },
      "source": [
        "!pip install catboost"
      ],
      "execution_count": null,
      "outputs": []
    },
    {
      "cell_type": "code",
      "metadata": {
        "id": "TsGdp_5bB6Nf"
      },
      "source": [
        "!pip install optuna"
      ],
      "execution_count": null,
      "outputs": []
    },
    {
      "cell_type": "code",
      "metadata": {
        "id": "dzUPBvrhB85z"
      },
      "source": [
        "!pip install borutashap"
      ],
      "execution_count": null,
      "outputs": []
    },
    {
      "cell_type": "code",
      "metadata": {
        "id": "M4Za3_QR7du-"
      },
      "source": [
        "!pip install --upgrade scikit-learn"
      ],
      "execution_count": null,
      "outputs": []
    },
    {
      "cell_type": "code",
      "metadata": {
        "id": "voqgc1y-7vcY"
      },
      "source": [
        "import pandas as pd\n",
        "import numpy as np\n",
        "import matplotlib.pyplot as plt\n",
        "import seaborn as sns\n",
        "import optuna\n",
        "from BorutaShap import BorutaShap\n",
        " \n",
        "# classification\n",
        "import xgboost, lightgbm, catboost\n",
        "from xgboost import XGBClassifier\n",
        "from catboost import CatBoostClassifier\n",
        "from lightgbm import LGBMClassifier\n",
        "from sklearn.tree import DecisionTreeClassifier, ExtraTreeClassifier\n",
        "from sklearn.ensemble import (RandomForestClassifier, StackingClassifier, GradientBoostingClassifier,\n",
        "                             AdaBoostClassifier, HistGradientBoostingClassifier) \n",
        "from sklearn.svm import SVC\n",
        "from sklearn.linear_model import LogisticRegression\n",
        "from sklearn.neighbors import KNeighborsClassifier\n",
        " \n",
        "# regression\n",
        "from xgboost import XGBRegressor\n",
        "from catboost import CatBoostRegressor\n",
        "from lightgbm import LGBMRegressor\n",
        "from sklearn.tree import DecisionTreeRegressor, ExtraTreeRegressor\n",
        "from sklearn.ensemble import (RandomForestRegressor, GradientBoostingRegressor,\n",
        "                             AdaBoostRegressor, HistGradientBoostingRegressor) \n",
        "from sklearn.svm import SVR\n",
        "from sklearn.linear_model import LinearRegression, Ridge, Lasso, ElasticNet\n",
        "from sklearn.neighbors import KNeighborsRegressor\n",
        "\n",
        "#preprocessing\n",
        "from sklearn.model_selection import train_test_split, KFold, cross_val_score, StratifiedKFold\n",
        "from sklearn.metrics import (accuracy_score, classification_report, confusion_matrix, \n",
        "                            log_loss, roc_auc_score, plot_roc_curve,plot_confusion_matrix) \n",
        "from sklearn.metrics import mean_absolute_error, mean_squared_error, mean_squared_log_error\n",
        "from sklearn.preprocessing import LabelEncoder, StandardScaler, MinMaxScaler\n",
        " \n",
        "import warnings\n",
        "warnings.filterwarnings(\"ignore\")\n",
        " \n",
        "%matplotlib inline"
      ],
      "execution_count": null,
      "outputs": []
    },
    {
      "cell_type": "code",
      "metadata": {
        "id": "wkfhxam3CFjA"
      },
      "source": [
        "train = pd.read_csv(\"/content/drive/MyDrive/Satisfaction prediction/train_satisfaction(clean).csv\")\n",
        "test = pd.read_csv(\"/content/drive/MyDrive/Satisfaction prediction/test_satisfaction(clean).csv\")"
      ],
      "execution_count": null,
      "outputs": []
    },
    {
      "cell_type": "code",
      "metadata": {
        "colab": {
          "base_uri": "https://localhost:8080/"
        },
        "id": "OU5ZZPIwCZUe",
        "outputId": "fa3a8ea2-5fe2-4c55-8cdb-a92b6c4d0c66"
      },
      "source": [
        "train.info()"
      ],
      "execution_count": null,
      "outputs": [
        {
          "output_type": "stream",
          "name": "stdout",
          "text": [
            "<class 'pandas.core.frame.DataFrame'>\n",
            "RangeIndex: 103594 entries, 0 to 103593\n",
            "Data columns (total 27 columns):\n",
            " #   Column                             Non-Null Count   Dtype \n",
            "---  ------                             --------------   ----- \n",
            " 0   Gender                             103594 non-null  object\n",
            " 1   Customer Type                      103594 non-null  object\n",
            " 2   Age                                103594 non-null  int64 \n",
            " 3   Type of Travel                     103594 non-null  object\n",
            " 4   Class                              103594 non-null  object\n",
            " 5   Flight Distance                    103594 non-null  int64 \n",
            " 6   Inflight wifi service              103594 non-null  int64 \n",
            " 7   Departure/Arrival time convenient  103594 non-null  int64 \n",
            " 8   Ease of Online booking             103594 non-null  int64 \n",
            " 9   Gate location                      103594 non-null  int64 \n",
            " 10  Food and drink                     103594 non-null  int64 \n",
            " 11  Online boarding                    103594 non-null  int64 \n",
            " 12  Seat comfort                       103594 non-null  int64 \n",
            " 13  Inflight entertainment             103594 non-null  int64 \n",
            " 14  On-board service                   103594 non-null  int64 \n",
            " 15  Leg room service                   103594 non-null  int64 \n",
            " 16  Baggage handling                   103594 non-null  int64 \n",
            " 17  Checkin service                    103594 non-null  int64 \n",
            " 18  Inflight service                   103594 non-null  int64 \n",
            " 19  Cleanliness                        103594 non-null  int64 \n",
            " 20  Departure Delay in Minutes         103594 non-null  int64 \n",
            " 21  Arrival Delay in Minutes           103594 non-null  int64 \n",
            " 22  satisfaction                       103594 non-null  object\n",
            " 23  Arrival Delay in Hours             103594 non-null  int64 \n",
            " 24  Departure Delay in Hours           103594 non-null  int64 \n",
            " 25  Arrival lebih 1 jam/tidak          103594 non-null  object\n",
            " 26  Departure lebih 1 jam/tidak        103594 non-null  object\n",
            "dtypes: int64(20), object(7)\n",
            "memory usage: 21.3+ MB\n"
          ]
        }
      ]
    },
    {
      "cell_type": "code",
      "metadata": {
        "colab": {
          "base_uri": "https://localhost:8080/",
          "height": 660
        },
        "id": "8rt2DT-W8bdV",
        "outputId": "7d2f0de6-3db8-4fee-b050-7c1896287906"
      },
      "source": [
        "train"
      ],
      "execution_count": null,
      "outputs": [
        {
          "data": {
            "text/html": [
              "<div>\n",
              "<style scoped>\n",
              "    .dataframe tbody tr th:only-of-type {\n",
              "        vertical-align: middle;\n",
              "    }\n",
              "\n",
              "    .dataframe tbody tr th {\n",
              "        vertical-align: top;\n",
              "    }\n",
              "\n",
              "    .dataframe thead th {\n",
              "        text-align: right;\n",
              "    }\n",
              "</style>\n",
              "<table border=\"1\" class=\"dataframe\">\n",
              "  <thead>\n",
              "    <tr style=\"text-align: right;\">\n",
              "      <th></th>\n",
              "      <th>Gender</th>\n",
              "      <th>Customer Type</th>\n",
              "      <th>Age</th>\n",
              "      <th>Type of Travel</th>\n",
              "      <th>Class</th>\n",
              "      <th>Flight Distance</th>\n",
              "      <th>Inflight wifi service</th>\n",
              "      <th>Departure/Arrival time convenient</th>\n",
              "      <th>Ease of Online booking</th>\n",
              "      <th>Gate location</th>\n",
              "      <th>Food and drink</th>\n",
              "      <th>Online boarding</th>\n",
              "      <th>Seat comfort</th>\n",
              "      <th>Inflight entertainment</th>\n",
              "      <th>On-board service</th>\n",
              "      <th>Leg room service</th>\n",
              "      <th>Baggage handling</th>\n",
              "      <th>Checkin service</th>\n",
              "      <th>Inflight service</th>\n",
              "      <th>Cleanliness</th>\n",
              "      <th>Departure Delay in Minutes</th>\n",
              "      <th>Arrival Delay in Minutes</th>\n",
              "      <th>satisfaction</th>\n",
              "      <th>Arrival Delay in Hours</th>\n",
              "      <th>Departure Delay in Hours</th>\n",
              "      <th>Arrival lebih 1 jam/tidak</th>\n",
              "      <th>Departure lebih 1 jam/tidak</th>\n",
              "    </tr>\n",
              "  </thead>\n",
              "  <tbody>\n",
              "    <tr>\n",
              "      <th>0</th>\n",
              "      <td>Male</td>\n",
              "      <td>Loyal Customer</td>\n",
              "      <td>13</td>\n",
              "      <td>Personal Travel</td>\n",
              "      <td>Eco Plus</td>\n",
              "      <td>460</td>\n",
              "      <td>3</td>\n",
              "      <td>4</td>\n",
              "      <td>3</td>\n",
              "      <td>1</td>\n",
              "      <td>5</td>\n",
              "      <td>3</td>\n",
              "      <td>5</td>\n",
              "      <td>5</td>\n",
              "      <td>4</td>\n",
              "      <td>3</td>\n",
              "      <td>4</td>\n",
              "      <td>4</td>\n",
              "      <td>5</td>\n",
              "      <td>5</td>\n",
              "      <td>25</td>\n",
              "      <td>18</td>\n",
              "      <td>neutral or dissatisfied</td>\n",
              "      <td>0</td>\n",
              "      <td>0</td>\n",
              "      <td>No</td>\n",
              "      <td>No</td>\n",
              "    </tr>\n",
              "    <tr>\n",
              "      <th>1</th>\n",
              "      <td>Male</td>\n",
              "      <td>disloyal Customer</td>\n",
              "      <td>25</td>\n",
              "      <td>Business travel</td>\n",
              "      <td>Business</td>\n",
              "      <td>235</td>\n",
              "      <td>3</td>\n",
              "      <td>2</td>\n",
              "      <td>3</td>\n",
              "      <td>3</td>\n",
              "      <td>1</td>\n",
              "      <td>3</td>\n",
              "      <td>1</td>\n",
              "      <td>1</td>\n",
              "      <td>1</td>\n",
              "      <td>5</td>\n",
              "      <td>3</td>\n",
              "      <td>1</td>\n",
              "      <td>4</td>\n",
              "      <td>1</td>\n",
              "      <td>1</td>\n",
              "      <td>6</td>\n",
              "      <td>neutral or dissatisfied</td>\n",
              "      <td>0</td>\n",
              "      <td>0</td>\n",
              "      <td>No</td>\n",
              "      <td>No</td>\n",
              "    </tr>\n",
              "    <tr>\n",
              "      <th>2</th>\n",
              "      <td>Female</td>\n",
              "      <td>Loyal Customer</td>\n",
              "      <td>26</td>\n",
              "      <td>Business travel</td>\n",
              "      <td>Business</td>\n",
              "      <td>1142</td>\n",
              "      <td>2</td>\n",
              "      <td>2</td>\n",
              "      <td>2</td>\n",
              "      <td>2</td>\n",
              "      <td>5</td>\n",
              "      <td>5</td>\n",
              "      <td>5</td>\n",
              "      <td>5</td>\n",
              "      <td>4</td>\n",
              "      <td>3</td>\n",
              "      <td>4</td>\n",
              "      <td>4</td>\n",
              "      <td>4</td>\n",
              "      <td>5</td>\n",
              "      <td>0</td>\n",
              "      <td>0</td>\n",
              "      <td>satisfied</td>\n",
              "      <td>0</td>\n",
              "      <td>0</td>\n",
              "      <td>No</td>\n",
              "      <td>No</td>\n",
              "    </tr>\n",
              "    <tr>\n",
              "      <th>3</th>\n",
              "      <td>Female</td>\n",
              "      <td>Loyal Customer</td>\n",
              "      <td>25</td>\n",
              "      <td>Business travel</td>\n",
              "      <td>Business</td>\n",
              "      <td>562</td>\n",
              "      <td>2</td>\n",
              "      <td>5</td>\n",
              "      <td>5</td>\n",
              "      <td>5</td>\n",
              "      <td>2</td>\n",
              "      <td>2</td>\n",
              "      <td>2</td>\n",
              "      <td>2</td>\n",
              "      <td>2</td>\n",
              "      <td>5</td>\n",
              "      <td>3</td>\n",
              "      <td>1</td>\n",
              "      <td>4</td>\n",
              "      <td>2</td>\n",
              "      <td>11</td>\n",
              "      <td>9</td>\n",
              "      <td>neutral or dissatisfied</td>\n",
              "      <td>0</td>\n",
              "      <td>0</td>\n",
              "      <td>No</td>\n",
              "      <td>No</td>\n",
              "    </tr>\n",
              "    <tr>\n",
              "      <th>4</th>\n",
              "      <td>Male</td>\n",
              "      <td>Loyal Customer</td>\n",
              "      <td>61</td>\n",
              "      <td>Business travel</td>\n",
              "      <td>Business</td>\n",
              "      <td>214</td>\n",
              "      <td>3</td>\n",
              "      <td>3</td>\n",
              "      <td>3</td>\n",
              "      <td>3</td>\n",
              "      <td>4</td>\n",
              "      <td>5</td>\n",
              "      <td>5</td>\n",
              "      <td>3</td>\n",
              "      <td>3</td>\n",
              "      <td>4</td>\n",
              "      <td>4</td>\n",
              "      <td>3</td>\n",
              "      <td>3</td>\n",
              "      <td>3</td>\n",
              "      <td>0</td>\n",
              "      <td>0</td>\n",
              "      <td>satisfied</td>\n",
              "      <td>0</td>\n",
              "      <td>0</td>\n",
              "      <td>No</td>\n",
              "      <td>No</td>\n",
              "    </tr>\n",
              "    <tr>\n",
              "      <th>...</th>\n",
              "      <td>...</td>\n",
              "      <td>...</td>\n",
              "      <td>...</td>\n",
              "      <td>...</td>\n",
              "      <td>...</td>\n",
              "      <td>...</td>\n",
              "      <td>...</td>\n",
              "      <td>...</td>\n",
              "      <td>...</td>\n",
              "      <td>...</td>\n",
              "      <td>...</td>\n",
              "      <td>...</td>\n",
              "      <td>...</td>\n",
              "      <td>...</td>\n",
              "      <td>...</td>\n",
              "      <td>...</td>\n",
              "      <td>...</td>\n",
              "      <td>...</td>\n",
              "      <td>...</td>\n",
              "      <td>...</td>\n",
              "      <td>...</td>\n",
              "      <td>...</td>\n",
              "      <td>...</td>\n",
              "      <td>...</td>\n",
              "      <td>...</td>\n",
              "      <td>...</td>\n",
              "      <td>...</td>\n",
              "    </tr>\n",
              "    <tr>\n",
              "      <th>103589</th>\n",
              "      <td>Female</td>\n",
              "      <td>disloyal Customer</td>\n",
              "      <td>23</td>\n",
              "      <td>Business travel</td>\n",
              "      <td>Eco</td>\n",
              "      <td>192</td>\n",
              "      <td>2</td>\n",
              "      <td>1</td>\n",
              "      <td>2</td>\n",
              "      <td>3</td>\n",
              "      <td>2</td>\n",
              "      <td>2</td>\n",
              "      <td>2</td>\n",
              "      <td>2</td>\n",
              "      <td>3</td>\n",
              "      <td>1</td>\n",
              "      <td>4</td>\n",
              "      <td>2</td>\n",
              "      <td>3</td>\n",
              "      <td>2</td>\n",
              "      <td>3</td>\n",
              "      <td>0</td>\n",
              "      <td>neutral or dissatisfied</td>\n",
              "      <td>0</td>\n",
              "      <td>0</td>\n",
              "      <td>No</td>\n",
              "      <td>No</td>\n",
              "    </tr>\n",
              "    <tr>\n",
              "      <th>103590</th>\n",
              "      <td>Male</td>\n",
              "      <td>Loyal Customer</td>\n",
              "      <td>49</td>\n",
              "      <td>Business travel</td>\n",
              "      <td>Business</td>\n",
              "      <td>2347</td>\n",
              "      <td>4</td>\n",
              "      <td>4</td>\n",
              "      <td>4</td>\n",
              "      <td>4</td>\n",
              "      <td>2</td>\n",
              "      <td>4</td>\n",
              "      <td>5</td>\n",
              "      <td>5</td>\n",
              "      <td>5</td>\n",
              "      <td>5</td>\n",
              "      <td>5</td>\n",
              "      <td>5</td>\n",
              "      <td>5</td>\n",
              "      <td>4</td>\n",
              "      <td>0</td>\n",
              "      <td>0</td>\n",
              "      <td>satisfied</td>\n",
              "      <td>0</td>\n",
              "      <td>0</td>\n",
              "      <td>No</td>\n",
              "      <td>No</td>\n",
              "    </tr>\n",
              "    <tr>\n",
              "      <th>103591</th>\n",
              "      <td>Male</td>\n",
              "      <td>disloyal Customer</td>\n",
              "      <td>30</td>\n",
              "      <td>Business travel</td>\n",
              "      <td>Business</td>\n",
              "      <td>1995</td>\n",
              "      <td>1</td>\n",
              "      <td>1</td>\n",
              "      <td>1</td>\n",
              "      <td>3</td>\n",
              "      <td>4</td>\n",
              "      <td>1</td>\n",
              "      <td>5</td>\n",
              "      <td>4</td>\n",
              "      <td>3</td>\n",
              "      <td>2</td>\n",
              "      <td>4</td>\n",
              "      <td>5</td>\n",
              "      <td>5</td>\n",
              "      <td>4</td>\n",
              "      <td>7</td>\n",
              "      <td>14</td>\n",
              "      <td>neutral or dissatisfied</td>\n",
              "      <td>0</td>\n",
              "      <td>0</td>\n",
              "      <td>No</td>\n",
              "      <td>No</td>\n",
              "    </tr>\n",
              "    <tr>\n",
              "      <th>103592</th>\n",
              "      <td>Female</td>\n",
              "      <td>disloyal Customer</td>\n",
              "      <td>22</td>\n",
              "      <td>Business travel</td>\n",
              "      <td>Eco</td>\n",
              "      <td>1000</td>\n",
              "      <td>1</td>\n",
              "      <td>1</td>\n",
              "      <td>1</td>\n",
              "      <td>5</td>\n",
              "      <td>1</td>\n",
              "      <td>1</td>\n",
              "      <td>1</td>\n",
              "      <td>1</td>\n",
              "      <td>4</td>\n",
              "      <td>5</td>\n",
              "      <td>1</td>\n",
              "      <td>5</td>\n",
              "      <td>4</td>\n",
              "      <td>1</td>\n",
              "      <td>0</td>\n",
              "      <td>0</td>\n",
              "      <td>neutral or dissatisfied</td>\n",
              "      <td>0</td>\n",
              "      <td>0</td>\n",
              "      <td>No</td>\n",
              "      <td>No</td>\n",
              "    </tr>\n",
              "    <tr>\n",
              "      <th>103593</th>\n",
              "      <td>Male</td>\n",
              "      <td>Loyal Customer</td>\n",
              "      <td>27</td>\n",
              "      <td>Business travel</td>\n",
              "      <td>Business</td>\n",
              "      <td>1723</td>\n",
              "      <td>1</td>\n",
              "      <td>3</td>\n",
              "      <td>3</td>\n",
              "      <td>3</td>\n",
              "      <td>1</td>\n",
              "      <td>1</td>\n",
              "      <td>1</td>\n",
              "      <td>1</td>\n",
              "      <td>1</td>\n",
              "      <td>1</td>\n",
              "      <td>4</td>\n",
              "      <td>4</td>\n",
              "      <td>3</td>\n",
              "      <td>1</td>\n",
              "      <td>0</td>\n",
              "      <td>0</td>\n",
              "      <td>neutral or dissatisfied</td>\n",
              "      <td>0</td>\n",
              "      <td>0</td>\n",
              "      <td>No</td>\n",
              "      <td>No</td>\n",
              "    </tr>\n",
              "  </tbody>\n",
              "</table>\n",
              "<p>103594 rows × 27 columns</p>\n",
              "</div>"
            ],
            "text/plain": [
              "        Gender  ... Departure lebih 1 jam/tidak\n",
              "0         Male  ...                          No\n",
              "1         Male  ...                          No\n",
              "2       Female  ...                          No\n",
              "3       Female  ...                          No\n",
              "4         Male  ...                          No\n",
              "...        ...  ...                         ...\n",
              "103589  Female  ...                          No\n",
              "103590    Male  ...                          No\n",
              "103591    Male  ...                          No\n",
              "103592  Female  ...                          No\n",
              "103593    Male  ...                          No\n",
              "\n",
              "[103594 rows x 27 columns]"
            ]
          },
          "execution_count": 12,
          "metadata": {},
          "output_type": "execute_result"
        }
      ]
    },
    {
      "cell_type": "code",
      "metadata": {
        "id": "jI7fcrD1C1oE"
      },
      "source": [
        "x = train.drop(\"satisfaction\", axis=1) \n",
        "y = train.satisfaction"
      ],
      "execution_count": null,
      "outputs": []
    },
    {
      "cell_type": "code",
      "metadata": {
        "colab": {
          "base_uri": "https://localhost:8080/"
        },
        "id": "dhGRgJkKDAbK",
        "outputId": "a4b7d2a8-b850-4d9e-800a-969ccf3a3e82"
      },
      "source": [
        "x_train, x_val, y_train, y_val = train_test_split(x, y, test_size=0.2, random_state=42)\n",
        "x_train.shape, x_val.shape"
      ],
      "execution_count": null,
      "outputs": [
        {
          "output_type": "execute_result",
          "data": {
            "text/plain": [
              "((82875, 26), (20719, 26))"
            ]
          },
          "metadata": {},
          "execution_count": 8
        }
      ]
    },
    {
      "cell_type": "code",
      "metadata": {
        "colab": {
          "base_uri": "https://localhost:8080/"
        },
        "id": "puHUQsHf8UUb",
        "outputId": "9372ab8b-3a34-4951-9c8f-81053fae399c"
      },
      "source": [
        "cater = x.select_dtypes(\"object\").columns\n",
        "cater"
      ],
      "execution_count": null,
      "outputs": [
        {
          "output_type": "execute_result",
          "data": {
            "text/plain": [
              "Index(['Gender', 'Customer Type', 'Type of Travel', 'Class',\n",
              "       'Arrival lebih 1 jam/tidak', 'Departure lebih 1 jam/tidak'],\n",
              "      dtype='object')"
            ]
          },
          "metadata": {},
          "execution_count": 9
        }
      ]
    },
    {
      "cell_type": "code",
      "metadata": {
        "id": "T4UNIHA3_iNY"
      },
      "source": [
        "acc_val = []\n",
        "acc_train = []\n",
        "roc_auc = []"
      ],
      "execution_count": null,
      "outputs": []
    },
    {
      "cell_type": "markdown",
      "metadata": {
        "id": "ZCyNFnaH8Hok"
      },
      "source": [
        "#model-1\n",
        " -RandomForest, \n",
        " -DecisionTree,\n",
        " -Xgboost, \n",
        " -GradientBoosting,\n",
        " -HistGradientBoosting,\n",
        " -AdaBoosting, \n",
        " -ExtraTree."
      ]
    },
    {
      "cell_type": "code",
      "metadata": {
        "id": "sXQhXc6m8DMe"
      },
      "source": [
        "x_train_1 = x_train\n",
        "x_val_1 = x_val"
      ],
      "execution_count": null,
      "outputs": []
    },
    {
      "cell_type": "code",
      "metadata": {
        "id": "DUSoY3Kx8SLy"
      },
      "source": [
        "dic = {}\n",
        "for i in cater:\n",
        "    dic[i] = LabelEncoder()\n",
        "    x_train_1[i] = dic[i].fit_transform(x_train_1[i])\n",
        "    x_val_1[i] = dic[i].transform(x_val_1[i])"
      ],
      "execution_count": null,
      "outputs": []
    },
    {
      "cell_type": "code",
      "metadata": {
        "colab": {
          "base_uri": "https://localhost:8080/",
          "height": 275
        },
        "id": "te9jj68s9lES",
        "outputId": "3fc51ae9-d233-4fb1-8b2b-3f3c1f304489"
      },
      "source": [
        "x_train_1.head()"
      ],
      "execution_count": null,
      "outputs": [
        {
          "output_type": "execute_result",
          "data": {
            "text/html": [
              "<div>\n",
              "<style scoped>\n",
              "    .dataframe tbody tr th:only-of-type {\n",
              "        vertical-align: middle;\n",
              "    }\n",
              "\n",
              "    .dataframe tbody tr th {\n",
              "        vertical-align: top;\n",
              "    }\n",
              "\n",
              "    .dataframe thead th {\n",
              "        text-align: right;\n",
              "    }\n",
              "</style>\n",
              "<table border=\"1\" class=\"dataframe\">\n",
              "  <thead>\n",
              "    <tr style=\"text-align: right;\">\n",
              "      <th></th>\n",
              "      <th>Gender</th>\n",
              "      <th>Customer Type</th>\n",
              "      <th>Age</th>\n",
              "      <th>Type of Travel</th>\n",
              "      <th>Class</th>\n",
              "      <th>Flight Distance</th>\n",
              "      <th>Inflight wifi service</th>\n",
              "      <th>Departure/Arrival time convenient</th>\n",
              "      <th>Ease of Online booking</th>\n",
              "      <th>Gate location</th>\n",
              "      <th>Food and drink</th>\n",
              "      <th>Online boarding</th>\n",
              "      <th>Seat comfort</th>\n",
              "      <th>Inflight entertainment</th>\n",
              "      <th>On-board service</th>\n",
              "      <th>Leg room service</th>\n",
              "      <th>Baggage handling</th>\n",
              "      <th>Checkin service</th>\n",
              "      <th>Inflight service</th>\n",
              "      <th>Cleanliness</th>\n",
              "      <th>Departure Delay in Minutes</th>\n",
              "      <th>Arrival Delay in Minutes</th>\n",
              "      <th>Arrival Delay in Hours</th>\n",
              "      <th>Departure Delay in Hours</th>\n",
              "      <th>Arrival lebih 1 jam/tidak</th>\n",
              "      <th>Departure lebih 1 jam/tidak</th>\n",
              "    </tr>\n",
              "  </thead>\n",
              "  <tbody>\n",
              "    <tr>\n",
              "      <th>18060</th>\n",
              "      <td>0</td>\n",
              "      <td>0</td>\n",
              "      <td>41</td>\n",
              "      <td>0</td>\n",
              "      <td>0</td>\n",
              "      <td>2660</td>\n",
              "      <td>3</td>\n",
              "      <td>3</td>\n",
              "      <td>3</td>\n",
              "      <td>3</td>\n",
              "      <td>5</td>\n",
              "      <td>5</td>\n",
              "      <td>5</td>\n",
              "      <td>2</td>\n",
              "      <td>2</td>\n",
              "      <td>2</td>\n",
              "      <td>2</td>\n",
              "      <td>3</td>\n",
              "      <td>2</td>\n",
              "      <td>4</td>\n",
              "      <td>0</td>\n",
              "      <td>2</td>\n",
              "      <td>0</td>\n",
              "      <td>0</td>\n",
              "      <td>0</td>\n",
              "      <td>0</td>\n",
              "    </tr>\n",
              "    <tr>\n",
              "      <th>66327</th>\n",
              "      <td>0</td>\n",
              "      <td>0</td>\n",
              "      <td>19</td>\n",
              "      <td>0</td>\n",
              "      <td>0</td>\n",
              "      <td>491</td>\n",
              "      <td>5</td>\n",
              "      <td>3</td>\n",
              "      <td>5</td>\n",
              "      <td>5</td>\n",
              "      <td>4</td>\n",
              "      <td>4</td>\n",
              "      <td>4</td>\n",
              "      <td>4</td>\n",
              "      <td>2</td>\n",
              "      <td>2</td>\n",
              "      <td>1</td>\n",
              "      <td>2</td>\n",
              "      <td>3</td>\n",
              "      <td>4</td>\n",
              "      <td>0</td>\n",
              "      <td>0</td>\n",
              "      <td>0</td>\n",
              "      <td>0</td>\n",
              "      <td>0</td>\n",
              "      <td>0</td>\n",
              "    </tr>\n",
              "    <tr>\n",
              "      <th>62887</th>\n",
              "      <td>1</td>\n",
              "      <td>0</td>\n",
              "      <td>29</td>\n",
              "      <td>0</td>\n",
              "      <td>0</td>\n",
              "      <td>2076</td>\n",
              "      <td>3</td>\n",
              "      <td>2</td>\n",
              "      <td>3</td>\n",
              "      <td>3</td>\n",
              "      <td>4</td>\n",
              "      <td>4</td>\n",
              "      <td>4</td>\n",
              "      <td>3</td>\n",
              "      <td>4</td>\n",
              "      <td>5</td>\n",
              "      <td>5</td>\n",
              "      <td>4</td>\n",
              "      <td>5</td>\n",
              "      <td>4</td>\n",
              "      <td>131</td>\n",
              "      <td>119</td>\n",
              "      <td>1</td>\n",
              "      <td>2</td>\n",
              "      <td>0</td>\n",
              "      <td>1</td>\n",
              "    </tr>\n",
              "    <tr>\n",
              "      <th>26251</th>\n",
              "      <td>1</td>\n",
              "      <td>0</td>\n",
              "      <td>52</td>\n",
              "      <td>0</td>\n",
              "      <td>0</td>\n",
              "      <td>2310</td>\n",
              "      <td>4</td>\n",
              "      <td>4</td>\n",
              "      <td>4</td>\n",
              "      <td>4</td>\n",
              "      <td>4</td>\n",
              "      <td>5</td>\n",
              "      <td>4</td>\n",
              "      <td>4</td>\n",
              "      <td>4</td>\n",
              "      <td>4</td>\n",
              "      <td>4</td>\n",
              "      <td>4</td>\n",
              "      <td>4</td>\n",
              "      <td>5</td>\n",
              "      <td>10</td>\n",
              "      <td>10</td>\n",
              "      <td>0</td>\n",
              "      <td>0</td>\n",
              "      <td>0</td>\n",
              "      <td>0</td>\n",
              "    </tr>\n",
              "    <tr>\n",
              "      <th>65452</th>\n",
              "      <td>1</td>\n",
              "      <td>0</td>\n",
              "      <td>54</td>\n",
              "      <td>0</td>\n",
              "      <td>0</td>\n",
              "      <td>685</td>\n",
              "      <td>1</td>\n",
              "      <td>1</td>\n",
              "      <td>1</td>\n",
              "      <td>1</td>\n",
              "      <td>4</td>\n",
              "      <td>5</td>\n",
              "      <td>5</td>\n",
              "      <td>5</td>\n",
              "      <td>5</td>\n",
              "      <td>5</td>\n",
              "      <td>5</td>\n",
              "      <td>3</td>\n",
              "      <td>5</td>\n",
              "      <td>5</td>\n",
              "      <td>0</td>\n",
              "      <td>8</td>\n",
              "      <td>0</td>\n",
              "      <td>0</td>\n",
              "      <td>0</td>\n",
              "      <td>0</td>\n",
              "    </tr>\n",
              "  </tbody>\n",
              "</table>\n",
              "</div>"
            ],
            "text/plain": [
              "       Gender  ...  Departure lebih 1 jam/tidak\n",
              "18060       0  ...                            0\n",
              "66327       0  ...                            0\n",
              "62887       1  ...                            1\n",
              "26251       1  ...                            0\n",
              "65452       1  ...                            0\n",
              "\n",
              "[5 rows x 26 columns]"
            ]
          },
          "metadata": {},
          "execution_count": 33
        }
      ]
    },
    {
      "cell_type": "code",
      "metadata": {
        "id": "PL_64xFg-UB2"
      },
      "source": [
        "XGB = XGBClassifier(learning_rate = 0.01,random_state=10) \n",
        "ADA = AdaBoostClassifier(learning_rate=0.01, random_state=10)\n",
        "GBT = GradientBoostingClassifier(learning_rate=0.01, random_state=10)\n",
        "HGBT = HistGradientBoostingClassifier(learning_rate=0.01, random_state=10)\n",
        "DT = DecisionTreeClassifier(random_state=10)\n",
        "RF = RandomForestClassifier(random_state=10)\n",
        "EXT = ExtraTreeClassifier(random_state=10)"
      ],
      "execution_count": null,
      "outputs": []
    },
    {
      "cell_type": "code",
      "metadata": {
        "id": "sV6uO-bw_de-"
      },
      "source": [
        "def score_1(model,x_train, y_train, x_val, y_val):\n",
        "    #fit model\n",
        "    model.fit(x_train,y_train)\n",
        " \n",
        "    #score train dan val\n",
        "    acc_train.append(model.score(x_train, y_train)) \n",
        "    acc_val.append(model.score(x_val, y_val)) \n",
        "        \n",
        "    #roc auc score\n",
        "    pred = model.predict_proba(x_val)[:,-1]\n",
        "    auc = roc_auc_score(y_val, pred) \n",
        "    roc_auc.append(auc) \n",
        "    \n",
        "    return model"
      ],
      "execution_count": null,
      "outputs": []
    },
    {
      "cell_type": "code",
      "metadata": {
        "colab": {
          "base_uri": "https://localhost:8080/"
        },
        "id": "LhGj7AXVCo0L",
        "outputId": "1ae6a495-37e5-4da2-d0bd-04495461fe26"
      },
      "source": [
        "for i in [XGB,ADA,GBT,HGBT,DT,RF,EXT]:\n",
        "    print(30*\"-\")\n",
        "    print(i)\n",
        "    score_1(i, x_train_1, y_train, x_val_1, y_val)\n",
        "    print(10*\"->\" + \" DONE\")"
      ],
      "execution_count": null,
      "outputs": [
        {
          "output_type": "stream",
          "name": "stdout",
          "text": [
            "------------------------------\n",
            "XGBClassifier(learning_rate=0.01, random_state=10)\n",
            "->->->->->->->->->-> DONE\n",
            "------------------------------\n",
            "AdaBoostClassifier(learning_rate=0.01, random_state=10)\n",
            "->->->->->->->->->-> DONE\n",
            "------------------------------\n",
            "GradientBoostingClassifier(learning_rate=0.01, random_state=10)\n",
            "->->->->->->->->->-> DONE\n",
            "------------------------------\n",
            "HistGradientBoostingClassifier(learning_rate=0.01, random_state=10)\n",
            "->->->->->->->->->-> DONE\n",
            "------------------------------\n",
            "DecisionTreeClassifier(random_state=10)\n",
            "->->->->->->->->->-> DONE\n",
            "------------------------------\n",
            "RandomForestClassifier(random_state=10)\n",
            "->->->->->->->->->-> DONE\n",
            "------------------------------\n",
            "ExtraTreeClassifier(random_state=10)\n",
            "->->->->->->->->->-> DONE\n"
          ]
        }
      ]
    },
    {
      "cell_type": "markdown",
      "metadata": {
        "id": "69Bigpf1E5pC"
      },
      "source": [
        "#MODEL -2\n",
        "-LGBM, \n",
        "-CatBoost."
      ]
    },
    {
      "cell_type": "code",
      "metadata": {
        "id": "ZVVA4oL3FNJp"
      },
      "source": [
        "x_train_2 = x_train \n",
        "x_val_2 = x_val"
      ],
      "execution_count": null,
      "outputs": []
    },
    {
      "cell_type": "code",
      "metadata": {
        "id": "y5haDysuFR46"
      },
      "source": [
        "for i in [x_train_2, x_val_2]: \n",
        "    i[cater] = i[cater].astype(\"category\")"
      ],
      "execution_count": null,
      "outputs": []
    },
    {
      "cell_type": "code",
      "metadata": {
        "colab": {
          "base_uri": "https://localhost:8080/"
        },
        "id": "oJVjAYgIFeMp",
        "outputId": "7c13962c-31a7-492a-d76d-e6640e90ae0e"
      },
      "source": [
        "x_train_2.dtypes"
      ],
      "execution_count": null,
      "outputs": [
        {
          "output_type": "execute_result",
          "data": {
            "text/plain": [
              "Gender                               category\n",
              "Customer Type                        category\n",
              "Age                                     int64\n",
              "Type of Travel                       category\n",
              "Class                                category\n",
              "Flight Distance                         int64\n",
              "Inflight wifi service                   int64\n",
              "Departure/Arrival time convenient       int64\n",
              "Ease of Online booking                  int64\n",
              "Gate location                           int64\n",
              "Food and drink                          int64\n",
              "Online boarding                         int64\n",
              "Seat comfort                            int64\n",
              "Inflight entertainment                  int64\n",
              "On-board service                        int64\n",
              "Leg room service                        int64\n",
              "Baggage handling                        int64\n",
              "Checkin service                         int64\n",
              "Inflight service                        int64\n",
              "Cleanliness                             int64\n",
              "Departure Delay in Minutes              int64\n",
              "Arrival Delay in Minutes                int64\n",
              "Arrival Delay in Hours                  int64\n",
              "Departure Delay in Hours                int64\n",
              "Arrival lebih 1 jam/tidak            category\n",
              "Departure lebih 1 jam/tidak          category\n",
              "dtype: object"
            ]
          },
          "metadata": {},
          "execution_count": 18
        }
      ]
    },
    {
      "cell_type": "code",
      "metadata": {
        "id": "KVh7PwTSGr6L"
      },
      "source": [
        "LGBM = LGBMClassifier(learning_rate=0.01, random_state=10) \n",
        "CB = CatBoostClassifier(learning_rate=0.01, random_state=10)"
      ],
      "execution_count": null,
      "outputs": []
    },
    {
      "cell_type": "code",
      "metadata": {
        "id": "H4G4KGHkE-I2"
      },
      "source": [
        "def score_2(model,x_train, y_train, x_val, y_val):\n",
        "       \n",
        "    #lgbm\n",
        "    if model == LGBM:\n",
        "       #fit model\n",
        "       model.fit(x_train,y_train,verbose=False)\n",
        " \n",
        "       #accuracy train dan val\n",
        "       acc_train.append(model.score(x_train, y_train))\n",
        "       acc_val.append(model.score(x_val, y_val))\n",
        "     \n",
        "       #roc_auc\n",
        "       pred = model.predict_proba(x_val)[:,-1]\n",
        "       auc = roc_auc_score(y_val, pred)\n",
        "       roc_auc.append(auc)\n",
        " \n",
        "   #catboost\n",
        "    else:         \n",
        "       model.fit(x_train,y_train,cat_features=cater.to_list(),verbose=False)\n",
        " \n",
        "       #accuracy train dan val\n",
        "       acc_train.append(model.score(x_train, y_train))\n",
        "       acc_val.append(model.score(x_val, y_val))\n",
        "          \n",
        "       #roc_auc\n",
        "       pred = model.predict_proba(x_val)[:,-1]\n",
        "       auc = roc_auc_score(y_val, pred) \n",
        "       roc_auc.append(auc)\n",
        "\n",
        "    return model"
      ],
      "execution_count": null,
      "outputs": []
    },
    {
      "cell_type": "code",
      "metadata": {
        "colab": {
          "base_uri": "https://localhost:8080/"
        },
        "id": "aY_1EDDkGpUZ",
        "outputId": "4ca455a0-78ab-4c3d-f470-9834e8faa9a8"
      },
      "source": [
        "for i in [LGBM,CB]:\n",
        "    print(30*\"-\")\n",
        "    print(i)\n",
        "    score_2(i, x_train_2, y_train, x_val_2, y_val)\n",
        "    print(10*\"->\" + \" DONE\")"
      ],
      "execution_count": null,
      "outputs": [
        {
          "output_type": "stream",
          "name": "stdout",
          "text": [
            "------------------------------\n",
            "LGBMClassifier(learning_rate=0.01, random_state=10)\n",
            "->->->->->->->->->-> DONE\n",
            "------------------------------\n",
            "<catboost.core.CatBoostClassifier object at 0x7f1a0d83d910>\n",
            "->->->->->->->->->-> DONE\n"
          ]
        }
      ]
    },
    {
      "cell_type": "markdown",
      "metadata": {
        "id": "W1zLtKx-IUGX"
      },
      "source": [
        "#MODEL -3\n",
        "-KNN, \n",
        "-SVM, \n",
        "-LOGISTICREGRESSION"
      ]
    },
    {
      "cell_type": "code",
      "metadata": {
        "id": "B_sU0uKIIoKr"
      },
      "source": [
        "x_train_3 = x_train_1\n",
        "x_val_3 = x_val_1"
      ],
      "execution_count": null,
      "outputs": []
    },
    {
      "cell_type": "code",
      "metadata": {
        "colab": {
          "base_uri": "https://localhost:8080/",
          "height": 490
        },
        "id": "zyceVYq-JcXc",
        "outputId": "e85e5155-3829-4d02-bc04-478156b9c166"
      },
      "source": [
        "x_train_3"
      ],
      "execution_count": null,
      "outputs": [
        {
          "output_type": "execute_result",
          "data": {
            "text/html": [
              "<div>\n",
              "<style scoped>\n",
              "    .dataframe tbody tr th:only-of-type {\n",
              "        vertical-align: middle;\n",
              "    }\n",
              "\n",
              "    .dataframe tbody tr th {\n",
              "        vertical-align: top;\n",
              "    }\n",
              "\n",
              "    .dataframe thead th {\n",
              "        text-align: right;\n",
              "    }\n",
              "</style>\n",
              "<table border=\"1\" class=\"dataframe\">\n",
              "  <thead>\n",
              "    <tr style=\"text-align: right;\">\n",
              "      <th></th>\n",
              "      <th>Gender</th>\n",
              "      <th>Customer Type</th>\n",
              "      <th>Age</th>\n",
              "      <th>Type of Travel</th>\n",
              "      <th>Class</th>\n",
              "      <th>Flight Distance</th>\n",
              "      <th>Inflight wifi service</th>\n",
              "      <th>Departure/Arrival time convenient</th>\n",
              "      <th>Ease of Online booking</th>\n",
              "      <th>Gate location</th>\n",
              "      <th>Food and drink</th>\n",
              "      <th>Online boarding</th>\n",
              "      <th>Seat comfort</th>\n",
              "      <th>Inflight entertainment</th>\n",
              "      <th>On-board service</th>\n",
              "      <th>Leg room service</th>\n",
              "      <th>Baggage handling</th>\n",
              "      <th>Checkin service</th>\n",
              "      <th>Inflight service</th>\n",
              "      <th>Cleanliness</th>\n",
              "      <th>Departure Delay in Minutes</th>\n",
              "      <th>Arrival Delay in Minutes</th>\n",
              "      <th>Arrival Delay in Hours</th>\n",
              "      <th>Departure Delay in Hours</th>\n",
              "      <th>Arrival lebih 1 jam/tidak</th>\n",
              "      <th>Departure lebih 1 jam/tidak</th>\n",
              "    </tr>\n",
              "  </thead>\n",
              "  <tbody>\n",
              "    <tr>\n",
              "      <th>18060</th>\n",
              "      <td>0</td>\n",
              "      <td>0</td>\n",
              "      <td>41</td>\n",
              "      <td>0</td>\n",
              "      <td>0</td>\n",
              "      <td>2660</td>\n",
              "      <td>3</td>\n",
              "      <td>3</td>\n",
              "      <td>3</td>\n",
              "      <td>3</td>\n",
              "      <td>5</td>\n",
              "      <td>5</td>\n",
              "      <td>5</td>\n",
              "      <td>2</td>\n",
              "      <td>2</td>\n",
              "      <td>2</td>\n",
              "      <td>2</td>\n",
              "      <td>3</td>\n",
              "      <td>2</td>\n",
              "      <td>4</td>\n",
              "      <td>0</td>\n",
              "      <td>2</td>\n",
              "      <td>0</td>\n",
              "      <td>0</td>\n",
              "      <td>0</td>\n",
              "      <td>0</td>\n",
              "    </tr>\n",
              "    <tr>\n",
              "      <th>66327</th>\n",
              "      <td>0</td>\n",
              "      <td>0</td>\n",
              "      <td>19</td>\n",
              "      <td>0</td>\n",
              "      <td>0</td>\n",
              "      <td>491</td>\n",
              "      <td>5</td>\n",
              "      <td>3</td>\n",
              "      <td>5</td>\n",
              "      <td>5</td>\n",
              "      <td>4</td>\n",
              "      <td>4</td>\n",
              "      <td>4</td>\n",
              "      <td>4</td>\n",
              "      <td>2</td>\n",
              "      <td>2</td>\n",
              "      <td>1</td>\n",
              "      <td>2</td>\n",
              "      <td>3</td>\n",
              "      <td>4</td>\n",
              "      <td>0</td>\n",
              "      <td>0</td>\n",
              "      <td>0</td>\n",
              "      <td>0</td>\n",
              "      <td>0</td>\n",
              "      <td>0</td>\n",
              "    </tr>\n",
              "    <tr>\n",
              "      <th>62887</th>\n",
              "      <td>1</td>\n",
              "      <td>0</td>\n",
              "      <td>29</td>\n",
              "      <td>0</td>\n",
              "      <td>0</td>\n",
              "      <td>2076</td>\n",
              "      <td>3</td>\n",
              "      <td>2</td>\n",
              "      <td>3</td>\n",
              "      <td>3</td>\n",
              "      <td>4</td>\n",
              "      <td>4</td>\n",
              "      <td>4</td>\n",
              "      <td>3</td>\n",
              "      <td>4</td>\n",
              "      <td>5</td>\n",
              "      <td>5</td>\n",
              "      <td>4</td>\n",
              "      <td>5</td>\n",
              "      <td>4</td>\n",
              "      <td>131</td>\n",
              "      <td>119</td>\n",
              "      <td>1</td>\n",
              "      <td>2</td>\n",
              "      <td>0</td>\n",
              "      <td>1</td>\n",
              "    </tr>\n",
              "    <tr>\n",
              "      <th>26251</th>\n",
              "      <td>1</td>\n",
              "      <td>0</td>\n",
              "      <td>52</td>\n",
              "      <td>0</td>\n",
              "      <td>0</td>\n",
              "      <td>2310</td>\n",
              "      <td>4</td>\n",
              "      <td>4</td>\n",
              "      <td>4</td>\n",
              "      <td>4</td>\n",
              "      <td>4</td>\n",
              "      <td>5</td>\n",
              "      <td>4</td>\n",
              "      <td>4</td>\n",
              "      <td>4</td>\n",
              "      <td>4</td>\n",
              "      <td>4</td>\n",
              "      <td>4</td>\n",
              "      <td>4</td>\n",
              "      <td>5</td>\n",
              "      <td>10</td>\n",
              "      <td>10</td>\n",
              "      <td>0</td>\n",
              "      <td>0</td>\n",
              "      <td>0</td>\n",
              "      <td>0</td>\n",
              "    </tr>\n",
              "    <tr>\n",
              "      <th>65452</th>\n",
              "      <td>1</td>\n",
              "      <td>0</td>\n",
              "      <td>54</td>\n",
              "      <td>0</td>\n",
              "      <td>0</td>\n",
              "      <td>685</td>\n",
              "      <td>1</td>\n",
              "      <td>1</td>\n",
              "      <td>1</td>\n",
              "      <td>1</td>\n",
              "      <td>4</td>\n",
              "      <td>5</td>\n",
              "      <td>5</td>\n",
              "      <td>5</td>\n",
              "      <td>5</td>\n",
              "      <td>5</td>\n",
              "      <td>5</td>\n",
              "      <td>3</td>\n",
              "      <td>5</td>\n",
              "      <td>5</td>\n",
              "      <td>0</td>\n",
              "      <td>8</td>\n",
              "      <td>0</td>\n",
              "      <td>0</td>\n",
              "      <td>0</td>\n",
              "      <td>0</td>\n",
              "    </tr>\n",
              "    <tr>\n",
              "      <th>...</th>\n",
              "      <td>...</td>\n",
              "      <td>...</td>\n",
              "      <td>...</td>\n",
              "      <td>...</td>\n",
              "      <td>...</td>\n",
              "      <td>...</td>\n",
              "      <td>...</td>\n",
              "      <td>...</td>\n",
              "      <td>...</td>\n",
              "      <td>...</td>\n",
              "      <td>...</td>\n",
              "      <td>...</td>\n",
              "      <td>...</td>\n",
              "      <td>...</td>\n",
              "      <td>...</td>\n",
              "      <td>...</td>\n",
              "      <td>...</td>\n",
              "      <td>...</td>\n",
              "      <td>...</td>\n",
              "      <td>...</td>\n",
              "      <td>...</td>\n",
              "      <td>...</td>\n",
              "      <td>...</td>\n",
              "      <td>...</td>\n",
              "      <td>...</td>\n",
              "      <td>...</td>\n",
              "    </tr>\n",
              "    <tr>\n",
              "      <th>6265</th>\n",
              "      <td>0</td>\n",
              "      <td>0</td>\n",
              "      <td>61</td>\n",
              "      <td>1</td>\n",
              "      <td>2</td>\n",
              "      <td>458</td>\n",
              "      <td>4</td>\n",
              "      <td>5</td>\n",
              "      <td>4</td>\n",
              "      <td>2</td>\n",
              "      <td>5</td>\n",
              "      <td>4</td>\n",
              "      <td>4</td>\n",
              "      <td>1</td>\n",
              "      <td>1</td>\n",
              "      <td>4</td>\n",
              "      <td>1</td>\n",
              "      <td>3</td>\n",
              "      <td>1</td>\n",
              "      <td>5</td>\n",
              "      <td>0</td>\n",
              "      <td>0</td>\n",
              "      <td>0</td>\n",
              "      <td>0</td>\n",
              "      <td>0</td>\n",
              "      <td>0</td>\n",
              "    </tr>\n",
              "    <tr>\n",
              "      <th>54886</th>\n",
              "      <td>1</td>\n",
              "      <td>0</td>\n",
              "      <td>39</td>\n",
              "      <td>0</td>\n",
              "      <td>0</td>\n",
              "      <td>251</td>\n",
              "      <td>2</td>\n",
              "      <td>1</td>\n",
              "      <td>1</td>\n",
              "      <td>1</td>\n",
              "      <td>1</td>\n",
              "      <td>4</td>\n",
              "      <td>4</td>\n",
              "      <td>2</td>\n",
              "      <td>2</td>\n",
              "      <td>2</td>\n",
              "      <td>2</td>\n",
              "      <td>3</td>\n",
              "      <td>2</td>\n",
              "      <td>2</td>\n",
              "      <td>0</td>\n",
              "      <td>0</td>\n",
              "      <td>0</td>\n",
              "      <td>0</td>\n",
              "      <td>0</td>\n",
              "      <td>0</td>\n",
              "    </tr>\n",
              "    <tr>\n",
              "      <th>76820</th>\n",
              "      <td>0</td>\n",
              "      <td>1</td>\n",
              "      <td>34</td>\n",
              "      <td>0</td>\n",
              "      <td>0</td>\n",
              "      <td>1072</td>\n",
              "      <td>2</td>\n",
              "      <td>2</td>\n",
              "      <td>2</td>\n",
              "      <td>1</td>\n",
              "      <td>2</td>\n",
              "      <td>2</td>\n",
              "      <td>2</td>\n",
              "      <td>2</td>\n",
              "      <td>5</td>\n",
              "      <td>2</td>\n",
              "      <td>4</td>\n",
              "      <td>3</td>\n",
              "      <td>4</td>\n",
              "      <td>2</td>\n",
              "      <td>29</td>\n",
              "      <td>25</td>\n",
              "      <td>0</td>\n",
              "      <td>0</td>\n",
              "      <td>0</td>\n",
              "      <td>0</td>\n",
              "    </tr>\n",
              "    <tr>\n",
              "      <th>860</th>\n",
              "      <td>0</td>\n",
              "      <td>0</td>\n",
              "      <td>24</td>\n",
              "      <td>0</td>\n",
              "      <td>0</td>\n",
              "      <td>1013</td>\n",
              "      <td>3</td>\n",
              "      <td>3</td>\n",
              "      <td>3</td>\n",
              "      <td>3</td>\n",
              "      <td>3</td>\n",
              "      <td>3</td>\n",
              "      <td>3</td>\n",
              "      <td>3</td>\n",
              "      <td>1</td>\n",
              "      <td>1</td>\n",
              "      <td>2</td>\n",
              "      <td>2</td>\n",
              "      <td>2</td>\n",
              "      <td>3</td>\n",
              "      <td>25</td>\n",
              "      <td>13</td>\n",
              "      <td>0</td>\n",
              "      <td>0</td>\n",
              "      <td>0</td>\n",
              "      <td>0</td>\n",
              "    </tr>\n",
              "    <tr>\n",
              "      <th>15795</th>\n",
              "      <td>0</td>\n",
              "      <td>0</td>\n",
              "      <td>52</td>\n",
              "      <td>0</td>\n",
              "      <td>1</td>\n",
              "      <td>458</td>\n",
              "      <td>5</td>\n",
              "      <td>2</td>\n",
              "      <td>5</td>\n",
              "      <td>2</td>\n",
              "      <td>2</td>\n",
              "      <td>4</td>\n",
              "      <td>3</td>\n",
              "      <td>5</td>\n",
              "      <td>5</td>\n",
              "      <td>5</td>\n",
              "      <td>5</td>\n",
              "      <td>4</td>\n",
              "      <td>5</td>\n",
              "      <td>2</td>\n",
              "      <td>0</td>\n",
              "      <td>0</td>\n",
              "      <td>0</td>\n",
              "      <td>0</td>\n",
              "      <td>0</td>\n",
              "      <td>0</td>\n",
              "    </tr>\n",
              "  </tbody>\n",
              "</table>\n",
              "<p>82875 rows × 26 columns</p>\n",
              "</div>"
            ],
            "text/plain": [
              "      Gender  ... Departure lebih 1 jam/tidak\n",
              "18060      0  ...                           0\n",
              "66327      0  ...                           0\n",
              "62887      1  ...                           1\n",
              "26251      1  ...                           0\n",
              "65452      1  ...                           0\n",
              "...      ...  ...                         ...\n",
              "6265       0  ...                           0\n",
              "54886      1  ...                           0\n",
              "76820      0  ...                           0\n",
              "860        0  ...                           0\n",
              "15795      0  ...                           0\n",
              "\n",
              "[82875 rows x 26 columns]"
            ]
          },
          "metadata": {},
          "execution_count": 22
        }
      ]
    },
    {
      "cell_type": "code",
      "metadata": {
        "id": "wGKyoWJxIzNZ"
      },
      "source": [
        "sc = StandardScaler()\n",
        "x_train_3 = sc.fit_transform(x_train_3)\n",
        "x_val_3 = sc.transform(x_val_3)"
      ],
      "execution_count": null,
      "outputs": []
    },
    {
      "cell_type": "code",
      "metadata": {
        "id": "ev-PZ8-1J-UE"
      },
      "source": [
        "LG = LogisticRegression()#default l2\n",
        "#SVM = SVC(kernel=\"linear\", probability = True)\n",
        "#KNN = KNeighborsClassifier()\n",
        "#SVM AND KNN NOT RECOMMEND FOR HIGH DIMENSION"
      ],
      "execution_count": null,
      "outputs": []
    },
    {
      "cell_type": "code",
      "metadata": {
        "id": "M_73PBYbKkEB"
      },
      "source": [
        "def score_3(model,x_train, y_train, x_val, y_val):\n",
        "    #fit model\n",
        "    model.fit(x_train,y_train)\n",
        " \n",
        "    #score train dan val\n",
        "    acc_train.append(model.score(x_train, y_train)) \n",
        "    acc_val.append(model.score(x_val, y_val)) \n",
        "        \n",
        "    #roc auc score\n",
        "    pred = model.predict_proba(x_val)[:,-1]\n",
        "    auc = roc_auc_score(y_val, pred) \n",
        "    roc_auc.append(auc) \n",
        "    \n",
        "    return model"
      ],
      "execution_count": null,
      "outputs": []
    },
    {
      "cell_type": "code",
      "metadata": {
        "colab": {
          "base_uri": "https://localhost:8080/"
        },
        "id": "3EvVlbn7KpQO",
        "outputId": "20f3965c-4940-4588-f15e-efe945e7b0ed"
      },
      "source": [
        "for i in [LG]:\n",
        "    print(30*\"-\")\n",
        "    print(i)\n",
        "    score_3(i, x_train_3, y_train, x_val_3, y_val)\n",
        "    print(10*\"->\" + \" DONE\")"
      ],
      "execution_count": null,
      "outputs": [
        {
          "output_type": "stream",
          "name": "stdout",
          "text": [
            "------------------------------\n",
            "LogisticRegression()\n",
            "->->->->->->->->->-> DONE\n"
          ]
        }
      ]
    },
    {
      "cell_type": "markdown",
      "metadata": {
        "id": "_4EZ6CMsFD6z"
      },
      "source": [
        "#MODEL SELECTION"
      ]
    },
    {
      "cell_type": "code",
      "metadata": {
        "id": "nojD-rneECSS"
      },
      "source": [
        "all_models = pd.DataFrame({\"models\": [\"XGB\", \"ADA\", \"GBT\", \"HGBT\", \"DT\", \"RF\", \"EXT\",\"LGBM\",\"CB\",\"LG\"], \n",
        "                          \"Train_accuracy\": acc_train, \n",
        "                          \"Val_accuracy\": acc_val,\n",
        "                          \"Roc_auc_score\": roc_auc})\n",
        "all_models = all_models.set_index(\"models\")"
      ],
      "execution_count": null,
      "outputs": []
    },
    {
      "cell_type": "code",
      "metadata": {
        "colab": {
          "base_uri": "https://localhost:8080/",
          "height": 410
        },
        "id": "pP9FYvutEsEQ",
        "outputId": "9e51403c-00b2-4654-8cf6-a6b1f443578e"
      },
      "source": [
        "all_models"
      ],
      "execution_count": null,
      "outputs": [
        {
          "output_type": "execute_result",
          "data": {
            "text/html": [
              "<div>\n",
              "<style scoped>\n",
              "    .dataframe tbody tr th:only-of-type {\n",
              "        vertical-align: middle;\n",
              "    }\n",
              "\n",
              "    .dataframe tbody tr th {\n",
              "        vertical-align: top;\n",
              "    }\n",
              "\n",
              "    .dataframe thead th {\n",
              "        text-align: right;\n",
              "    }\n",
              "</style>\n",
              "<table border=\"1\" class=\"dataframe\">\n",
              "  <thead>\n",
              "    <tr style=\"text-align: right;\">\n",
              "      <th></th>\n",
              "      <th>Train_accuracy</th>\n",
              "      <th>Val_accuracy</th>\n",
              "      <th>Roc_auc_score</th>\n",
              "    </tr>\n",
              "    <tr>\n",
              "      <th>models</th>\n",
              "      <th></th>\n",
              "      <th></th>\n",
              "      <th></th>\n",
              "    </tr>\n",
              "  </thead>\n",
              "  <tbody>\n",
              "    <tr>\n",
              "      <th>XGB</th>\n",
              "      <td>0.899873</td>\n",
              "      <td>0.902650</td>\n",
              "      <td>0.967505</td>\n",
              "    </tr>\n",
              "    <tr>\n",
              "      <th>ADA</th>\n",
              "      <td>0.786534</td>\n",
              "      <td>0.792316</td>\n",
              "      <td>0.888165</td>\n",
              "    </tr>\n",
              "    <tr>\n",
              "      <th>GBT</th>\n",
              "      <td>0.901104</td>\n",
              "      <td>0.903470</td>\n",
              "      <td>0.967799</td>\n",
              "    </tr>\n",
              "    <tr>\n",
              "      <th>HGBT</th>\n",
              "      <td>0.939741</td>\n",
              "      <td>0.940779</td>\n",
              "      <td>0.982632</td>\n",
              "    </tr>\n",
              "    <tr>\n",
              "      <th>DT</th>\n",
              "      <td>1.000000</td>\n",
              "      <td>0.945171</td>\n",
              "      <td>0.944410</td>\n",
              "    </tr>\n",
              "    <tr>\n",
              "      <th>RF</th>\n",
              "      <td>1.000000</td>\n",
              "      <td>0.962353</td>\n",
              "      <td>0.994083</td>\n",
              "    </tr>\n",
              "    <tr>\n",
              "      <th>EXT</th>\n",
              "      <td>1.000000</td>\n",
              "      <td>0.922052</td>\n",
              "      <td>0.920673</td>\n",
              "    </tr>\n",
              "    <tr>\n",
              "      <th>LGBM</th>\n",
              "      <td>0.939487</td>\n",
              "      <td>0.940634</td>\n",
              "      <td>0.982678</td>\n",
              "    </tr>\n",
              "    <tr>\n",
              "      <th>CB</th>\n",
              "      <td>0.961919</td>\n",
              "      <td>0.960375</td>\n",
              "      <td>0.993957</td>\n",
              "    </tr>\n",
              "    <tr>\n",
              "      <th>LG</th>\n",
              "      <td>0.876344</td>\n",
              "      <td>0.872291</td>\n",
              "      <td>0.925809</td>\n",
              "    </tr>\n",
              "  </tbody>\n",
              "</table>\n",
              "</div>"
            ],
            "text/plain": [
              "        Train_accuracy  Val_accuracy  Roc_auc_score\n",
              "models                                             \n",
              "XGB           0.899873      0.902650       0.967505\n",
              "ADA           0.786534      0.792316       0.888165\n",
              "GBT           0.901104      0.903470       0.967799\n",
              "HGBT          0.939741      0.940779       0.982632\n",
              "DT            1.000000      0.945171       0.944410\n",
              "RF            1.000000      0.962353       0.994083\n",
              "EXT           1.000000      0.922052       0.920673\n",
              "LGBM          0.939487      0.940634       0.982678\n",
              "CB            0.961919      0.960375       0.993957\n",
              "LG            0.876344      0.872291       0.925809"
            ]
          },
          "metadata": {},
          "execution_count": 28
        }
      ]
    },
    {
      "cell_type": "code",
      "metadata": {
        "colab": {
          "base_uri": "https://localhost:8080/",
          "height": 159
        },
        "id": "afP-NXudBn4F",
        "outputId": "2bdd91a2-6377-4574-fb66-396f10596d0b"
      },
      "source": [
        "all_models[[\"Train_accuracy\",\"Val_accuracy\"]].plot(kind=\"bar\", figsize=(17, 8))\n",
        "plt.title(\"all_models accuracy(train vs val)\", size=20)\n",
        "plt.xlabel(\"models\", size=20)\n",
        "plt.ylabel(\"Accuracy\", size=20)\n",
        "plt.show()"
      ],
      "execution_count": null,
      "outputs": [
        {
          "output_type": "display_data",
          "data": {
            "image/png": "[encoded data removed]",
            "text/plain": [
              "<Figure size 1224x576 with 1 Axes>"
            ]
          },
          "metadata": {
            "needs_background": "light"
          }
        }
      ]
    },
    {
      "cell_type": "code",
      "metadata": {
        "colab": {
          "base_uri": "https://localhost:8080/",
          "height": 159
        },
        "id": "UFhDYcMKGRzG",
        "outputId": "6d6d2040-2140-470e-e6d5-797823e090a6"
      },
      "source": [
        "all_models[\"Roc_auc_score\"].sort_values().plot(kind=\"bar\", figsize=(17, 8))\n",
        "plt.title(\"all_models roc_auc_score(train vs val)\", size=20)\n",
        "plt.xlabel(\"models\", size=20)\n",
        "plt.ylabel(\"Roc_auc_score\", size=20)\n",
        "plt.show()"
      ],
      "execution_count": null,
      "outputs": [
        {
          "output_type": "display_data",
          "data": {
            "image/png": "[encoded data removed]",
            "text/plain": [
              "<Figure size 1224x576 with 1 Axes>"
            ]
          },
          "metadata": {
            "needs_background": "light"
          }
        }
      ]
    },
    {
      "cell_type": "markdown",
      "metadata": {
        "id": "l9_dIHoQHgPT"
      },
      "source": [
        "#CROSS VALIDATION(StratifiedKFold)"
      ]
    },
    {
      "cell_type": "code",
      "metadata": {
        "id": "PDeg_hToIouj"
      },
      "source": [
        "\n",
        "# kfold 5 split\n",
        "val_pred = []\n",
        "test_pred = []\n",
        "accuracy_val = []\n",
        "\n",
        "def cross_val(X, y, test, model, params, folds=5):\n",
        "\n",
        "    skf = StratifiedKFold(n_splits=folds, shuffle=True, random_state=21)\n",
        "    for fold, (train_idx, val_idx) in enumerate(skf.split(X, y)):\n",
        "        print(f\"Fold: {fold + 1}\")\n",
        "        X_train, y_train = X.iloc[train_idx], y.iloc[train_idx]\n",
        "        X_val, y_val = X.iloc[val_idx], y.iloc[val_idx]\n",
        "\n",
        "        alg = model(**params)\n",
        "        alg.fit(X_train, y_train)\n",
        "\n",
        "        #predict x_val per 5 fold   \n",
        "        pred = alg.predict(X_val)\n",
        "        val_pred.append(pred)\n",
        "\n",
        "        #hitung accuracy\n",
        "        acc = accuracy_score(y_val, pred) \n",
        "        accuracy_val.append(acc)\n",
        "  \n",
        "        #predict test per 5 fold\n",
        "        y_pred = alg.predict(test)\n",
        "        test_pred.append(y_pred)\n",
        "\n",
        "        print(f\"accuracy: {acc}\")\n",
        "        print(\"-\"*50)\n",
        "\n",
        "    print(f\"\\nmean accuracy folds: {np.array(accuracy_val).mean()}\")\n",
        "    return alg"
      ],
      "execution_count": null,
      "outputs": []
    },
    {
      "cell_type": "code",
      "metadata": {
        "colab": {
          "base_uri": "https://localhost:8080/",
          "height": 490
        },
        "id": "kJ-ABSv1JwvF",
        "outputId": "b586ebad-3d78-4253-b897-28849e78a6a9"
      },
      "source": [
        "x_new = pd.concat([x_train_2, x_val_2])\n",
        "x_new"
      ],
      "execution_count": null,
      "outputs": [
        {
          "output_type": "execute_result",
          "data": {
            "text/html": [
              "<div>\n",
              "<style scoped>\n",
              "    .dataframe tbody tr th:only-of-type {\n",
              "        vertical-align: middle;\n",
              "    }\n",
              "\n",
              "    .dataframe tbody tr th {\n",
              "        vertical-align: top;\n",
              "    }\n",
              "\n",
              "    .dataframe thead th {\n",
              "        text-align: right;\n",
              "    }\n",
              "</style>\n",
              "<table border=\"1\" class=\"dataframe\">\n",
              "  <thead>\n",
              "    <tr style=\"text-align: right;\">\n",
              "      <th></th>\n",
              "      <th>Gender</th>\n",
              "      <th>Customer Type</th>\n",
              "      <th>Age</th>\n",
              "      <th>Type of Travel</th>\n",
              "      <th>Class</th>\n",
              "      <th>Flight Distance</th>\n",
              "      <th>Inflight wifi service</th>\n",
              "      <th>Departure/Arrival time convenient</th>\n",
              "      <th>Ease of Online booking</th>\n",
              "      <th>Gate location</th>\n",
              "      <th>Food and drink</th>\n",
              "      <th>Online boarding</th>\n",
              "      <th>Seat comfort</th>\n",
              "      <th>Inflight entertainment</th>\n",
              "      <th>On-board service</th>\n",
              "      <th>Leg room service</th>\n",
              "      <th>Baggage handling</th>\n",
              "      <th>Checkin service</th>\n",
              "      <th>Inflight service</th>\n",
              "      <th>Cleanliness</th>\n",
              "      <th>Departure Delay in Minutes</th>\n",
              "      <th>Arrival Delay in Minutes</th>\n",
              "      <th>Arrival Delay in Hours</th>\n",
              "      <th>Departure Delay in Hours</th>\n",
              "      <th>Arrival lebih 1 jam/tidak</th>\n",
              "      <th>Departure lebih 1 jam/tidak</th>\n",
              "    </tr>\n",
              "  </thead>\n",
              "  <tbody>\n",
              "    <tr>\n",
              "      <th>18060</th>\n",
              "      <td>0</td>\n",
              "      <td>0</td>\n",
              "      <td>41</td>\n",
              "      <td>0</td>\n",
              "      <td>0</td>\n",
              "      <td>2660</td>\n",
              "      <td>3</td>\n",
              "      <td>3</td>\n",
              "      <td>3</td>\n",
              "      <td>3</td>\n",
              "      <td>5</td>\n",
              "      <td>5</td>\n",
              "      <td>5</td>\n",
              "      <td>2</td>\n",
              "      <td>2</td>\n",
              "      <td>2</td>\n",
              "      <td>2</td>\n",
              "      <td>3</td>\n",
              "      <td>2</td>\n",
              "      <td>4</td>\n",
              "      <td>0</td>\n",
              "      <td>2</td>\n",
              "      <td>0</td>\n",
              "      <td>0</td>\n",
              "      <td>0</td>\n",
              "      <td>0</td>\n",
              "    </tr>\n",
              "    <tr>\n",
              "      <th>66327</th>\n",
              "      <td>0</td>\n",
              "      <td>0</td>\n",
              "      <td>19</td>\n",
              "      <td>0</td>\n",
              "      <td>0</td>\n",
              "      <td>491</td>\n",
              "      <td>5</td>\n",
              "      <td>3</td>\n",
              "      <td>5</td>\n",
              "      <td>5</td>\n",
              "      <td>4</td>\n",
              "      <td>4</td>\n",
              "      <td>4</td>\n",
              "      <td>4</td>\n",
              "      <td>2</td>\n",
              "      <td>2</td>\n",
              "      <td>1</td>\n",
              "      <td>2</td>\n",
              "      <td>3</td>\n",
              "      <td>4</td>\n",
              "      <td>0</td>\n",
              "      <td>0</td>\n",
              "      <td>0</td>\n",
              "      <td>0</td>\n",
              "      <td>0</td>\n",
              "      <td>0</td>\n",
              "    </tr>\n",
              "    <tr>\n",
              "      <th>62887</th>\n",
              "      <td>1</td>\n",
              "      <td>0</td>\n",
              "      <td>29</td>\n",
              "      <td>0</td>\n",
              "      <td>0</td>\n",
              "      <td>2076</td>\n",
              "      <td>3</td>\n",
              "      <td>2</td>\n",
              "      <td>3</td>\n",
              "      <td>3</td>\n",
              "      <td>4</td>\n",
              "      <td>4</td>\n",
              "      <td>4</td>\n",
              "      <td>3</td>\n",
              "      <td>4</td>\n",
              "      <td>5</td>\n",
              "      <td>5</td>\n",
              "      <td>4</td>\n",
              "      <td>5</td>\n",
              "      <td>4</td>\n",
              "      <td>131</td>\n",
              "      <td>119</td>\n",
              "      <td>1</td>\n",
              "      <td>2</td>\n",
              "      <td>0</td>\n",
              "      <td>1</td>\n",
              "    </tr>\n",
              "    <tr>\n",
              "      <th>26251</th>\n",
              "      <td>1</td>\n",
              "      <td>0</td>\n",
              "      <td>52</td>\n",
              "      <td>0</td>\n",
              "      <td>0</td>\n",
              "      <td>2310</td>\n",
              "      <td>4</td>\n",
              "      <td>4</td>\n",
              "      <td>4</td>\n",
              "      <td>4</td>\n",
              "      <td>4</td>\n",
              "      <td>5</td>\n",
              "      <td>4</td>\n",
              "      <td>4</td>\n",
              "      <td>4</td>\n",
              "      <td>4</td>\n",
              "      <td>4</td>\n",
              "      <td>4</td>\n",
              "      <td>4</td>\n",
              "      <td>5</td>\n",
              "      <td>10</td>\n",
              "      <td>10</td>\n",
              "      <td>0</td>\n",
              "      <td>0</td>\n",
              "      <td>0</td>\n",
              "      <td>0</td>\n",
              "    </tr>\n",
              "    <tr>\n",
              "      <th>65452</th>\n",
              "      <td>1</td>\n",
              "      <td>0</td>\n",
              "      <td>54</td>\n",
              "      <td>0</td>\n",
              "      <td>0</td>\n",
              "      <td>685</td>\n",
              "      <td>1</td>\n",
              "      <td>1</td>\n",
              "      <td>1</td>\n",
              "      <td>1</td>\n",
              "      <td>4</td>\n",
              "      <td>5</td>\n",
              "      <td>5</td>\n",
              "      <td>5</td>\n",
              "      <td>5</td>\n",
              "      <td>5</td>\n",
              "      <td>5</td>\n",
              "      <td>3</td>\n",
              "      <td>5</td>\n",
              "      <td>5</td>\n",
              "      <td>0</td>\n",
              "      <td>8</td>\n",
              "      <td>0</td>\n",
              "      <td>0</td>\n",
              "      <td>0</td>\n",
              "      <td>0</td>\n",
              "    </tr>\n",
              "    <tr>\n",
              "      <th>...</th>\n",
              "      <td>...</td>\n",
              "      <td>...</td>\n",
              "      <td>...</td>\n",
              "      <td>...</td>\n",
              "      <td>...</td>\n",
              "      <td>...</td>\n",
              "      <td>...</td>\n",
              "      <td>...</td>\n",
              "      <td>...</td>\n",
              "      <td>...</td>\n",
              "      <td>...</td>\n",
              "      <td>...</td>\n",
              "      <td>...</td>\n",
              "      <td>...</td>\n",
              "      <td>...</td>\n",
              "      <td>...</td>\n",
              "      <td>...</td>\n",
              "      <td>...</td>\n",
              "      <td>...</td>\n",
              "      <td>...</td>\n",
              "      <td>...</td>\n",
              "      <td>...</td>\n",
              "      <td>...</td>\n",
              "      <td>...</td>\n",
              "      <td>...</td>\n",
              "      <td>...</td>\n",
              "    </tr>\n",
              "    <tr>\n",
              "      <th>13466</th>\n",
              "      <td>0</td>\n",
              "      <td>0</td>\n",
              "      <td>45</td>\n",
              "      <td>0</td>\n",
              "      <td>0</td>\n",
              "      <td>622</td>\n",
              "      <td>1</td>\n",
              "      <td>2</td>\n",
              "      <td>5</td>\n",
              "      <td>2</td>\n",
              "      <td>3</td>\n",
              "      <td>4</td>\n",
              "      <td>3</td>\n",
              "      <td>1</td>\n",
              "      <td>1</td>\n",
              "      <td>1</td>\n",
              "      <td>1</td>\n",
              "      <td>3</td>\n",
              "      <td>1</td>\n",
              "      <td>4</td>\n",
              "      <td>20</td>\n",
              "      <td>27</td>\n",
              "      <td>0</td>\n",
              "      <td>0</td>\n",
              "      <td>0</td>\n",
              "      <td>0</td>\n",
              "    </tr>\n",
              "    <tr>\n",
              "      <th>59404</th>\n",
              "      <td>1</td>\n",
              "      <td>0</td>\n",
              "      <td>36</td>\n",
              "      <td>0</td>\n",
              "      <td>0</td>\n",
              "      <td>2329</td>\n",
              "      <td>1</td>\n",
              "      <td>1</td>\n",
              "      <td>5</td>\n",
              "      <td>1</td>\n",
              "      <td>2</td>\n",
              "      <td>4</td>\n",
              "      <td>5</td>\n",
              "      <td>5</td>\n",
              "      <td>5</td>\n",
              "      <td>5</td>\n",
              "      <td>5</td>\n",
              "      <td>5</td>\n",
              "      <td>5</td>\n",
              "      <td>5</td>\n",
              "      <td>10</td>\n",
              "      <td>12</td>\n",
              "      <td>0</td>\n",
              "      <td>0</td>\n",
              "      <td>0</td>\n",
              "      <td>0</td>\n",
              "    </tr>\n",
              "    <tr>\n",
              "      <th>84713</th>\n",
              "      <td>1</td>\n",
              "      <td>0</td>\n",
              "      <td>69</td>\n",
              "      <td>0</td>\n",
              "      <td>0</td>\n",
              "      <td>488</td>\n",
              "      <td>3</td>\n",
              "      <td>3</td>\n",
              "      <td>3</td>\n",
              "      <td>3</td>\n",
              "      <td>4</td>\n",
              "      <td>4</td>\n",
              "      <td>1</td>\n",
              "      <td>4</td>\n",
              "      <td>4</td>\n",
              "      <td>4</td>\n",
              "      <td>4</td>\n",
              "      <td>2</td>\n",
              "      <td>4</td>\n",
              "      <td>4</td>\n",
              "      <td>2</td>\n",
              "      <td>0</td>\n",
              "      <td>0</td>\n",
              "      <td>0</td>\n",
              "      <td>0</td>\n",
              "      <td>0</td>\n",
              "    </tr>\n",
              "    <tr>\n",
              "      <th>43975</th>\n",
              "      <td>1</td>\n",
              "      <td>0</td>\n",
              "      <td>15</td>\n",
              "      <td>1</td>\n",
              "      <td>1</td>\n",
              "      <td>1062</td>\n",
              "      <td>3</td>\n",
              "      <td>4</td>\n",
              "      <td>3</td>\n",
              "      <td>3</td>\n",
              "      <td>3</td>\n",
              "      <td>3</td>\n",
              "      <td>3</td>\n",
              "      <td>3</td>\n",
              "      <td>3</td>\n",
              "      <td>3</td>\n",
              "      <td>4</td>\n",
              "      <td>4</td>\n",
              "      <td>4</td>\n",
              "      <td>3</td>\n",
              "      <td>0</td>\n",
              "      <td>0</td>\n",
              "      <td>0</td>\n",
              "      <td>0</td>\n",
              "      <td>0</td>\n",
              "      <td>0</td>\n",
              "    </tr>\n",
              "    <tr>\n",
              "      <th>43721</th>\n",
              "      <td>1</td>\n",
              "      <td>0</td>\n",
              "      <td>57</td>\n",
              "      <td>0</td>\n",
              "      <td>1</td>\n",
              "      <td>157</td>\n",
              "      <td>4</td>\n",
              "      <td>2</td>\n",
              "      <td>2</td>\n",
              "      <td>2</td>\n",
              "      <td>5</td>\n",
              "      <td>4</td>\n",
              "      <td>5</td>\n",
              "      <td>5</td>\n",
              "      <td>3</td>\n",
              "      <td>2</td>\n",
              "      <td>3</td>\n",
              "      <td>3</td>\n",
              "      <td>2</td>\n",
              "      <td>5</td>\n",
              "      <td>0</td>\n",
              "      <td>0</td>\n",
              "      <td>0</td>\n",
              "      <td>0</td>\n",
              "      <td>0</td>\n",
              "      <td>0</td>\n",
              "    </tr>\n",
              "  </tbody>\n",
              "</table>\n",
              "<p>103594 rows × 26 columns</p>\n",
              "</div>"
            ],
            "text/plain": [
              "      Gender  ... Departure lebih 1 jam/tidak\n",
              "18060      0  ...                           0\n",
              "66327      0  ...                           0\n",
              "62887      1  ...                           1\n",
              "26251      1  ...                           0\n",
              "65452      1  ...                           0\n",
              "...      ...  ...                         ...\n",
              "13466      0  ...                           0\n",
              "59404      1  ...                           0\n",
              "84713      1  ...                           0\n",
              "43975      1  ...                           0\n",
              "43721      1  ...                           0\n",
              "\n",
              "[103594 rows x 26 columns]"
            ]
          },
          "metadata": {},
          "execution_count": 31
        }
      ]
    },
    {
      "cell_type": "code",
      "metadata": {
        "colab": {
          "base_uri": "https://localhost:8080/"
        },
        "id": "Gd4quVBnKMOr",
        "outputId": "8f60356e-3ae1-4a11-bdfe-b7829deed908"
      },
      "source": [
        "y_new = pd.concat([y_train, y_val])\n",
        "y_new"
      ],
      "execution_count": null,
      "outputs": [
        {
          "output_type": "execute_result",
          "data": {
            "text/plain": [
              "18060                  satisfied\n",
              "66327                  satisfied\n",
              "62887                  satisfied\n",
              "26251                  satisfied\n",
              "65452                  satisfied\n",
              "                  ...           \n",
              "13466    neutral or dissatisfied\n",
              "59404                  satisfied\n",
              "84713                  satisfied\n",
              "43975    neutral or dissatisfied\n",
              "43721                  satisfied\n",
              "Name: satisfaction, Length: 103594, dtype: object"
            ]
          },
          "metadata": {},
          "execution_count": 32
        }
      ]
    },
    {
      "cell_type": "code",
      "metadata": {
        "id": "SqUw6WKGKbsj"
      },
      "source": [
        "new_test = test"
      ],
      "execution_count": null,
      "outputs": []
    },
    {
      "cell_type": "code",
      "metadata": {
        "id": "lh9cr8qSKfOv"
      },
      "source": [
        "for i in cater:\n",
        "    new_test[i] = dic[i].transform(new_test[i])"
      ],
      "execution_count": null,
      "outputs": []
    },
    {
      "cell_type": "code",
      "metadata": {
        "id": "CVpFIK-0Mksx"
      },
      "source": [
        "new_test = new_test.drop(\"satisfaction\", axis=1)"
      ],
      "execution_count": null,
      "outputs": []
    },
    {
      "cell_type": "code",
      "metadata": {
        "colab": {
          "base_uri": "https://localhost:8080/"
        },
        "id": "BIyiyOFQLOur",
        "outputId": "9f4507e0-41d8-450d-f6e0-c056c1808419"
      },
      "source": [
        "rf_params = dict(class_weight=\"balanced\", random_state=42)\n",
        "rf_params"
      ],
      "execution_count": null,
      "outputs": [
        {
          "output_type": "execute_result",
          "data": {
            "text/plain": [
              "{'class_weight': 'balanced', 'random_state': 42}"
            ]
          },
          "metadata": {},
          "execution_count": 36
        }
      ]
    },
    {
      "cell_type": "code",
      "metadata": {
        "colab": {
          "base_uri": "https://localhost:8080/"
        },
        "id": "Hjgoa9_YK0j4",
        "outputId": "bdcb93ff-8efe-487e-84a1-05405c87e724"
      },
      "source": [
        "score_rf = cross_val(x_new, y_new, new_test, RandomForestClassifier, rf_params)"
      ],
      "execution_count": null,
      "outputs": [
        {
          "output_type": "stream",
          "name": "stdout",
          "text": [
            "Fold: 1\n",
            "accuracy: 0.961581157391766\n",
            "--------------------------------------------------\n",
            "Fold: 2\n",
            "accuracy: 0.9621120710458999\n",
            "--------------------------------------------------\n",
            "Fold: 3\n",
            "accuracy: 0.9664559100342681\n",
            "--------------------------------------------------\n",
            "Fold: 4\n",
            "accuracy: 0.9613398330035233\n",
            "--------------------------------------------------\n",
            "Fold: 5\n",
            "accuracy: 0.9599864851819674\n",
            "--------------------------------------------------\n",
            "\n",
            "mean accuracy folds: 0.9622950913314849\n"
          ]
        }
      ]
    },
    {
      "cell_type": "code",
      "metadata": {
        "colab": {
          "base_uri": "https://localhost:8080/"
        },
        "id": "s2uziuoUMfUa",
        "outputId": "c87d2faa-b17a-4ba6-8c8c-6077513b41a3"
      },
      "source": [
        "print(f\"validation_accuracy: {score_rf.score(x_val_2, y_val)}\")\n",
        "print(f\"training_accuracy: {score_rf.score(x_train_2, y_train)}\")"
      ],
      "execution_count": null,
      "outputs": [
        {
          "output_type": "stream",
          "name": "stdout",
          "text": [
            "validation_accuracy: 0.9918432356773975\n",
            "training_accuracy: 0.9920361990950226\n"
          ]
        }
      ]
    },
    {
      "cell_type": "code",
      "metadata": {
        "colab": {
          "base_uri": "https://localhost:8080/",
          "height": 201
        },
        "id": "sqgc8ca5RbLi",
        "outputId": "8580c698-02ac-4420-8b59-fc4bdd4f8e85"
      },
      "source": [
        "#roc curve score\n",
        "y_val_ohe = pd.get_dummies(y_val)\n",
        "label = {}\n",
        "for i in range(y_val_ohe.shape[1]): \n",
        "    rf = RandomForestClassifier(class_weight=\"balanced\").fit(x_val_2, y_val_ohe.iloc[:,i]) \n",
        "    ax = plt.gca()\n",
        "    label[i] = plot_roc_curve(rf, x_val_2, y_val_ohe.iloc[:,i], name = y_val_ohe.iloc[:,i].name, ax=ax)\n",
        "plt.show()"
      ],
      "execution_count": null,
      "outputs": [
        {
          "output_type": "display_data",
          "data": {
            "image/png": "[encoded data removed]",
            "text/plain": [
              "<Figure size 432x288 with 1 Axes>"
            ]
          },
          "metadata": {
            "needs_background": "light"
          }
        }
      ]
    },
    {
      "cell_type": "code",
      "metadata": {
        "colab": {
          "base_uri": "https://localhost:8080/",
          "height": 220
        },
        "id": "Z9b707vzNs_o",
        "outputId": "d2e90449-3358-4145-8c8a-916f57c4736f"
      },
      "source": [
        "plot_confusion_matrix(score_rf, x_val_2, y_val)"
      ],
      "execution_count": null,
      "outputs": [
        {
          "output_type": "execute_result",
          "data": {
            "text/plain": [
              "<sklearn.metrics._plot.confusion_matrix.ConfusionMatrixDisplay at 0x7f1a19713dd0>"
            ]
          },
          "metadata": {},
          "execution_count": 38
        },
        {
          "output_type": "display_data",
          "data": {
            "image/png": "[encoded data removed]",
            "text/plain": [
              "<Figure size 432x288 with 2 Axes>"
            ]
          },
          "metadata": {
            "needs_background": "light"
          }
        }
      ]
    },
    {
      "cell_type": "code",
      "metadata": {
        "colab": {
          "base_uri": "https://localhost:8080/",
          "height": 222
        },
        "id": "_rSNj57lQ1VI",
        "outputId": "98697135-f3a5-400c-c311-2921dd02a4a4"
      },
      "source": [
        "classification_report(y_val, score_rf.predict(x_val_2))"
      ],
      "execution_count": null,
      "outputs": [
        {
          "output_type": "execute_result",
          "data": {
            "application/vnd.google.colaboratory.intrinsic+json": {
              "type": "string"
            },
            "text/plain": [
              "'                         precision    recall  f1-score   support\\n\\nneutral or dissatisfied       0.99      1.00      0.99     11655\\n              satisfied       0.99      0.99      0.99      9064\\n\\n               accuracy                           0.99     20719\\n              macro avg       0.99      0.99      0.99     20719\\n           weighted avg       0.99      0.99      0.99     20719\\n'"
            ]
          },
          "metadata": {},
          "execution_count": 72
        }
      ]
    },
    {
      "cell_type": "markdown",
      "metadata": {
        "id": "G2Ro9o60G2bS"
      },
      "source": [
        "#FINAL PREDICTION for unseen data"
      ]
    },
    {
      "cell_type": "code",
      "metadata": {
        "id": "j7SNKUVVHS4P"
      },
      "source": [
        "y_predict = score_rf.predict(new_test)"
      ],
      "execution_count": null,
      "outputs": []
    },
    {
      "cell_type": "code",
      "metadata": {
        "colab": {
          "base_uri": "https://localhost:8080/"
        },
        "id": "Mi_j83BiUN71",
        "outputId": "a5fa1af4-68ea-4e8b-bb33-eca4bd72b219"
      },
      "source": [
        "accuracy_score(test.satisfaction, y_predict)"
      ],
      "execution_count": null,
      "outputs": [
        {
          "output_type": "execute_result",
          "data": {
            "text/plain": [
              "0.9638512339242267"
            ]
          },
          "metadata": {},
          "execution_count": 89
        }
      ]
    },
    {
      "cell_type": "code",
      "metadata": {
        "colab": {
          "base_uri": "https://localhost:8080/",
          "height": 222
        },
        "id": "doIWcfCeVZtf",
        "outputId": "01688785-859f-48ec-a74a-088710ee79d2"
      },
      "source": [
        "classification_report(test.satisfaction, y_predict)"
      ],
      "execution_count": null,
      "outputs": [
        {
          "output_type": "execute_result",
          "data": {
            "application/vnd.google.colaboratory.intrinsic+json": {
              "type": "string"
            },
            "text/plain": [
              "'                         precision    recall  f1-score   support\\n\\nneutral or dissatisfied       0.96      0.98      0.97     14528\\n              satisfied       0.97      0.94      0.96     11365\\n\\n               accuracy                           0.96     25893\\n              macro avg       0.97      0.96      0.96     25893\\n           weighted avg       0.96      0.96      0.96     25893\\n'"
            ]
          },
          "metadata": {},
          "execution_count": 92
        }
      ]
    }
  ]
}